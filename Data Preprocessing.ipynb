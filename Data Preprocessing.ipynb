{
 "cells": [
  {
   "cell_type": "code",
   "execution_count": 1,
   "id": "0114c1e7",
   "metadata": {},
   "outputs": [],
   "source": [
    "import pandas as pd\n",
    "data=pd.read_csv(\"dataset.csv\")"
   ]
  },
  {
   "cell_type": "code",
   "execution_count": 2,
   "id": "f65e5466",
   "metadata": {},
   "outputs": [
    {
     "data": {
      "text/plain": [
       "Index(['ObjectId', 'Country', 'ISO2', 'ISO3', 'Indicator', 'Unit', 'Source',\n",
       "       'CTS_Code', 'CTS_Name', 'CTS_Full_Descriptor', 'Industry', 'Gas_Type',\n",
       "       'Scale', 'F1970', 'F1971', 'F1972', 'F1973', 'F1974', 'F1975', 'F1976',\n",
       "       'F1977', 'F1978', 'F1979', 'F1980', 'F1981', 'F1982', 'F1983', 'F1984',\n",
       "       'F1985', 'F1986', 'F1987', 'F1988', 'F1989', 'F1990', 'F1991', 'F1992',\n",
       "       'F1993', 'F1994', 'F1995', 'F1996', 'F1997', 'F1998', 'F1999', 'F2000',\n",
       "       'F2001', 'F2002', 'F2003', 'F2004', 'F2005', 'F2006', 'F2007', 'F2008',\n",
       "       'F2009', 'F2010', 'F2011', 'F2012', 'F2013', 'F2014', 'F2015', 'F2016',\n",
       "       'F2017', 'F2018', 'F2019', 'F2020', 'F2021', 'F2022', 'F2023', 'F2024',\n",
       "       'F2025', 'F2026', 'F2027', 'F2028', 'F2029', 'F2030'],\n",
       "      dtype='object')"
      ]
     },
     "execution_count": 2,
     "metadata": {},
     "output_type": "execute_result"
    }
   ],
   "source": [
    "data.columns"
   ]
  },
  {
   "cell_type": "code",
   "execution_count": 3,
   "id": "539e99fd",
   "metadata": {},
   "outputs": [
    {
     "data": {
      "text/plain": [
       "<bound method DataFrame.info of        ObjectId             Country ISO2   ISO3  \\\n",
       "0             1  Advanced Economies  NaN  AETMP   \n",
       "1             2  Advanced Economies  NaN  AETMP   \n",
       "2             3  Advanced Economies  NaN  AETMP   \n",
       "3             4  Advanced Economies  NaN  AETMP   \n",
       "4             5  Advanced Economies  NaN  AETMP   \n",
       "...         ...                 ...  ...    ...   \n",
       "20443     20444            Zimbabwe   ZW    ZWE   \n",
       "20444     20445            Zimbabwe   ZW    ZWE   \n",
       "20445     20446            Zimbabwe   ZW    ZWE   \n",
       "20446     20447            Zimbabwe   ZW    ZWE   \n",
       "20447     20448            Zimbabwe   ZW    ZWE   \n",
       "\n",
       "                                               Indicator  \\\n",
       "0                          Annual Net Emissions/Removals   \n",
       "1                          Annual Net Emissions/Removals   \n",
       "2                          Annual Net Emissions/Removals   \n",
       "3                          Annual Net Emissions/Removals   \n",
       "4                          Annual Net Emissions/Removals   \n",
       "...                                                  ...   \n",
       "20443  Total GHG emissions including land-use, land-u...   \n",
       "20444  Total GHG emissions including land-use, land-u...   \n",
       "20445  Total GHG emissions including land-use, land-u...   \n",
       "20446  Total GHG emissions including land-use, land-u...   \n",
       "20447  Total GHG emissions including land-use, land-u...   \n",
       "\n",
       "                                        Unit  \\\n",
       "0      Million metric tons of CO2 equivalent   \n",
       "1      Million metric tons of CO2 equivalent   \n",
       "2      Million metric tons of CO2 equivalent   \n",
       "3      Million metric tons of CO2 equivalent   \n",
       "4      Million metric tons of CO2 equivalent   \n",
       "...                                      ...   \n",
       "20443  Million metric tons of CO2 equivalent   \n",
       "20444  Million metric tons of CO2 equivalent   \n",
       "20445  Million metric tons of CO2 equivalent   \n",
       "20446  Million metric tons of CO2 equivalent   \n",
       "20447  Million metric tons of CO2 equivalent   \n",
       "\n",
       "                                                  Source CTS_Code  \\\n",
       "0      United Nations Framework Convention on Climate...   ECNGDR   \n",
       "1      United Nations Framework Convention on Climate...   ECNGDR   \n",
       "2      United Nations Framework Convention on Climate...   ECNGDR   \n",
       "3      United Nations Framework Convention on Climate...   ECNGDR   \n",
       "4      United Nations Framework Convention on Climate...   ECNGDR   \n",
       "...                                                  ...      ...   \n",
       "20443  United Nations Framework Convention on Climate...   ECNGDI   \n",
       "20444  United Nations Framework Convention on Climate...   ECNGDI   \n",
       "20445  United Nations Framework Convention on Climate...   ECNGDI   \n",
       "20446  United Nations Framework Convention on Climate...   ECNGDI   \n",
       "20447  United Nations Framework Convention on Climate...   ECNGDI   \n",
       "\n",
       "                                                CTS_Name  \\\n",
       "0                          Annual Net Emissions/Removals   \n",
       "1                          Annual Net Emissions/Removals   \n",
       "2                          Annual Net Emissions/Removals   \n",
       "3                          Annual Net Emissions/Removals   \n",
       "4                          Annual Net Emissions/Removals   \n",
       "...                                                  ...   \n",
       "20443  Total GHG Emissions Including Land-Use and Lan...   \n",
       "20444  Total GHG Emissions Including Land-Use and Lan...   \n",
       "20445  Total GHG Emissions Including Land-Use and Lan...   \n",
       "20446  Total GHG Emissions Including Land-Use and Lan...   \n",
       "20447  Total GHG Emissions Including Land-Use and Lan...   \n",
       "\n",
       "                                     CTS_Full_Descriptor  ...        F2021  \\\n",
       "0      Environment, Climate Change, Economic Activity...  ...    25.035774   \n",
       "1      Environment, Climate Change, Economic Activity...  ...  1143.352083   \n",
       "2      Environment, Climate Change, Economic Activity...  ...   584.740417   \n",
       "3      Environment, Climate Change, Economic Activity...  ...   533.575892   \n",
       "4      Environment, Climate Change, Economic Activity...  ...  1384.787385   \n",
       "...                                                  ...  ...          ...   \n",
       "20443  Environment, Climate Change, Economic Activity...  ...    99.455966   \n",
       "20444  Environment, Climate Change, Economic Activity...  ...     0.605421   \n",
       "20445  Environment, Climate Change, Economic Activity...  ...   118.816785   \n",
       "20446  Environment, Climate Change, Economic Activity...  ...    13.481188   \n",
       "20447  Environment, Climate Change, Economic Activity...  ...     5.274209   \n",
       "\n",
       "      F2022 F2023  F2024  F2025  F2026  F2027  F2028  F2029  F2030  \n",
       "0       NaN   NaN    NaN    NaN    NaN    NaN    NaN    NaN    NaN  \n",
       "1       NaN   NaN    NaN    NaN    NaN    NaN    NaN    NaN    NaN  \n",
       "2       NaN   NaN    NaN    NaN    NaN    NaN    NaN    NaN    NaN  \n",
       "3       NaN   NaN    NaN    NaN    NaN    NaN    NaN    NaN    NaN  \n",
       "4       NaN   NaN    NaN    NaN    NaN    NaN    NaN    NaN    NaN  \n",
       "...     ...   ...    ...    ...    ...    ...    ...    ...    ...  \n",
       "20443   NaN   NaN    NaN    NaN    NaN    NaN    NaN    NaN    NaN  \n",
       "20444   NaN   NaN    NaN    NaN    NaN    NaN    NaN    NaN    NaN  \n",
       "20445   NaN   NaN    NaN    NaN    NaN    NaN    NaN    NaN    NaN  \n",
       "20446   NaN   NaN    NaN    NaN    NaN    NaN    NaN    NaN    NaN  \n",
       "20447   NaN   NaN    NaN    NaN    NaN    NaN    NaN    NaN    NaN  \n",
       "\n",
       "[20448 rows x 74 columns]>"
      ]
     },
     "execution_count": 3,
     "metadata": {},
     "output_type": "execute_result"
    }
   ],
   "source": [
    "data.info"
   ]
  },
  {
   "cell_type": "code",
   "execution_count": 4,
   "id": "c55d2174",
   "metadata": {},
   "outputs": [],
   "source": [
    "percent_missing = data.isnull().sum() * 100 / len(data)\n",
    "missing_value_df = pd.DataFrame({'column_name': data.columns,\n",
    "                                 'percent_missing': percent_missing})"
   ]
  },
  {
   "cell_type": "code",
   "execution_count": 5,
   "id": "733ade8f",
   "metadata": {},
   "outputs": [
    {
     "data": {
      "text/plain": [
       "Index(['column_name', 'percent_missing'], dtype='object')"
      ]
     },
     "execution_count": 5,
     "metadata": {},
     "output_type": "execute_result"
    }
   ],
   "source": [
    "missing_value_df.columns"
   ]
  },
  {
   "cell_type": "code",
   "execution_count": 6,
   "id": "572a9cbd",
   "metadata": {},
   "outputs": [
    {
     "name": "stderr",
     "output_type": "stream",
     "text": [
      "C:\\Users\\KDIVA\\miniconda3\\envs\\my-conda-env\\Lib\\site-packages\\seaborn\\_oldcore.py:1498: FutureWarning: is_categorical_dtype is deprecated and will be removed in a future version. Use isinstance(dtype, CategoricalDtype) instead\n",
      "  if pd.api.types.is_categorical_dtype(vector):\n",
      "C:\\Users\\KDIVA\\miniconda3\\envs\\my-conda-env\\Lib\\site-packages\\seaborn\\_oldcore.py:1498: FutureWarning: is_categorical_dtype is deprecated and will be removed in a future version. Use isinstance(dtype, CategoricalDtype) instead\n",
      "  if pd.api.types.is_categorical_dtype(vector):\n",
      "C:\\Users\\KDIVA\\miniconda3\\envs\\my-conda-env\\Lib\\site-packages\\seaborn\\_oldcore.py:1498: FutureWarning: is_categorical_dtype is deprecated and will be removed in a future version. Use isinstance(dtype, CategoricalDtype) instead\n",
      "  if pd.api.types.is_categorical_dtype(vector):\n"
     ]
    },
    {
     "data": {
      "image/png": "[encoded data removed]",
      "text/plain": [
       "<Figure size 1200x500 with 1 Axes>"
      ]
     },
     "metadata": {},
     "output_type": "display_data"
    }
   ],
   "source": [
    "\n",
    "import matplotlib.pyplot as plt\n",
    "import seaborn as sns\n",
    "plt.figure(figsize=(12, 5))\n",
    "\n",
    "plt.xticks(fontsize=6)\n",
    "\n",
    "plt.xticks(rotation=90)\n",
    "sns.barplot(x='column_name',y='percent_missing',data=missing_value_df)\n",
    "plt.show()"
   ]
  },
  {
   "cell_type": "code",
   "execution_count": 7,
   "id": "8fd2f7d6",
   "metadata": {},
   "outputs": [],
   "source": [
    "cols = ['F2022', 'F2023', 'F2024', 'F2025', 'F2026', 'F2027', 'F2028', 'F2029', 'F2030']\n",
    "data = data.drop(cols, axis=1)"
   ]
  },
  {
   "cell_type": "code",
   "execution_count": 8,
   "id": "7d580863",
   "metadata": {},
   "outputs": [
    {
     "data": {
      "text/plain": [
       "Index(['ObjectId', 'Country', 'ISO2', 'ISO3', 'Indicator', 'Unit', 'Source',\n",
       "       'CTS_Code', 'CTS_Name', 'CTS_Full_Descriptor', 'Industry', 'Gas_Type',\n",
       "       'Scale', 'F1970', 'F1971', 'F1972', 'F1973', 'F1974', 'F1975', 'F1976',\n",
       "       'F1977', 'F1978', 'F1979', 'F1980', 'F1981', 'F1982', 'F1983', 'F1984',\n",
       "       'F1985', 'F1986', 'F1987', 'F1988', 'F1989', 'F1990', 'F1991', 'F1992',\n",
       "       'F1993', 'F1994', 'F1995', 'F1996', 'F1997', 'F1998', 'F1999', 'F2000',\n",
       "       'F2001', 'F2002', 'F2003', 'F2004', 'F2005', 'F2006', 'F2007', 'F2008',\n",
       "       'F2009', 'F2010', 'F2011', 'F2012', 'F2013', 'F2014', 'F2015', 'F2016',\n",
       "       'F2017', 'F2018', 'F2019', 'F2020', 'F2021'],\n",
       "      dtype='object')"
      ]
     },
     "execution_count": 8,
     "metadata": {},
     "output_type": "execute_result"
    }
   ],
   "source": [
    "data.columns"
   ]
  },
  {
   "cell_type": "code",
   "execution_count": 9,
   "id": "e6219c72",
   "metadata": {},
   "outputs": [
    {
     "name": "stdout",
     "output_type": "stream",
     "text": [
      "<class 'pandas.core.frame.DataFrame'>\n",
      "Index: 12699 entries, 118 to 20447\n",
      "Data columns (total 65 columns):\n",
      " #   Column               Non-Null Count  Dtype  \n",
      "---  ------               --------------  -----  \n",
      " 0   ObjectId             12699 non-null  int64  \n",
      " 1   Country              12699 non-null  object \n",
      " 2   ISO2                 12699 non-null  object \n",
      " 3   ISO3                 12699 non-null  object \n",
      " 4   Indicator            12699 non-null  object \n",
      " 5   Unit                 12699 non-null  object \n",
      " 6   Source               12699 non-null  object \n",
      " 7   CTS_Code             12699 non-null  object \n",
      " 8   CTS_Name             12699 non-null  object \n",
      " 9   CTS_Full_Descriptor  12699 non-null  object \n",
      " 10  Industry             12699 non-null  object \n",
      " 11  Gas_Type             12699 non-null  object \n",
      " 12  Scale                12699 non-null  object \n",
      " 13  F1970                12699 non-null  float64\n",
      " 14  F1971                12699 non-null  float64\n",
      " 15  F1972                12699 non-null  float64\n",
      " 16  F1973                12699 non-null  float64\n",
      " 17  F1974                12699 non-null  float64\n",
      " 18  F1975                12699 non-null  float64\n",
      " 19  F1976                12699 non-null  float64\n",
      " 20  F1977                12699 non-null  float64\n",
      " 21  F1978                12699 non-null  float64\n",
      " 22  F1979                12699 non-null  float64\n",
      " 23  F1980                12699 non-null  float64\n",
      " 24  F1981                12699 non-null  float64\n",
      " 25  F1982                12699 non-null  float64\n",
      " 26  F1983                12699 non-null  float64\n",
      " 27  F1984                12699 non-null  float64\n",
      " 28  F1985                12699 non-null  float64\n",
      " 29  F1986                12699 non-null  float64\n",
      " 30  F1987                12699 non-null  float64\n",
      " 31  F1988                12699 non-null  float64\n",
      " 32  F1989                12699 non-null  float64\n",
      " 33  F1990                12699 non-null  float64\n",
      " 34  F1991                12699 non-null  float64\n",
      " 35  F1992                12699 non-null  float64\n",
      " 36  F1993                12699 non-null  float64\n",
      " 37  F1994                12699 non-null  float64\n",
      " 38  F1995                12699 non-null  float64\n",
      " 39  F1996                12699 non-null  float64\n",
      " 40  F1997                12699 non-null  float64\n",
      " 41  F1998                12699 non-null  float64\n",
      " 42  F1999                12699 non-null  float64\n",
      " 43  F2000                12699 non-null  float64\n",
      " 44  F2001                12699 non-null  float64\n",
      " 45  F2002                12699 non-null  float64\n",
      " 46  F2003                12699 non-null  float64\n",
      " 47  F2004                12699 non-null  float64\n",
      " 48  F2005                12699 non-null  float64\n",
      " 49  F2006                12699 non-null  float64\n",
      " 50  F2007                12699 non-null  float64\n",
      " 51  F2008                12699 non-null  float64\n",
      " 52  F2009                12699 non-null  float64\n",
      " 53  F2010                12699 non-null  float64\n",
      " 54  F2011                12699 non-null  float64\n",
      " 55  F2012                12699 non-null  float64\n",
      " 56  F2013                12699 non-null  float64\n",
      " 57  F2014                12699 non-null  float64\n",
      " 58  F2015                12699 non-null  float64\n",
      " 59  F2016                12699 non-null  float64\n",
      " 60  F2017                12699 non-null  float64\n",
      " 61  F2018                12699 non-null  float64\n",
      " 62  F2019                12699 non-null  float64\n",
      " 63  F2020                12699 non-null  float64\n",
      " 64  F2021                12699 non-null  float64\n",
      "dtypes: float64(52), int64(1), object(12)\n",
      "memory usage: 6.4+ MB\n"
     ]
    }
   ],
   "source": [
    "data=data.dropna()\n",
    "data.info()"
   ]
  },
  {
   "cell_type": "code",
   "execution_count": 10,
   "id": "46b865b2",
   "metadata": {},
   "outputs": [],
   "source": [
    "data.to_csv(\"datapre.csv\")"
   ]
  }
 ],
 "metadata": {
  "kernelspec": {
   "display_name": "Python 3 (ipykernel)",
   "language": "python",
   "name": "python3"
  },
  "language_info": {
   "codemirror_mode": {
    "name": "ipython",
    "version": 3
   },
   "file_extension": ".py",
   "mimetype": "text/x-python",
   "name": "python",
   "nbconvert_exporter": "python",
   "pygments_lexer": "ipython3",
   "version": "3.11.5"
  }
 },
 "nbformat": 4,
 "nbformat_minor": 5
}
